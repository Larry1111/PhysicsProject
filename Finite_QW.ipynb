{
 "cells": [
  {
   "cell_type": "code",
   "execution_count": 66,
   "id": "fcf7b535",
   "metadata": {},
   "outputs": [
    {
     "name": "stderr",
     "output_type": "stream",
     "text": [
      "<ipython-input-66-55ab2f2017cd>:21: RuntimeWarning: invalid value encountered in sqrt\n",
      "  y2=((z0/z)**2-1)**(1/2)\n",
      "<ipython-input-66-55ab2f2017cd>:32: RuntimeWarning: invalid value encountered in double_scalars\n",
      "  F[1]=y-((z0/z)**2-1)**(1/2)\n",
      "/Users/larryli/opt/anaconda3/lib/python3.8/site-packages/scipy/optimize/minpack.py:175: RuntimeWarning: The iteration is not making good progress, as measured by the \n",
      "  improvement from the last ten iterations.\n",
      "  warnings.warn(msg, RuntimeWarning)\n",
      "<ipython-input-66-55ab2f2017cd>:41: RuntimeWarning: invalid value encountered in double_scalars\n",
      "  F[1]=y-((z0/z)**2-1)**(1/2)\n"
     ]
    },
    {
     "data": {
      "text/plain": [
       "717.9665100666388"
      ]
     },
     "execution_count": 66,
     "metadata": {},
     "output_type": "execute_result"
    },
    {
     "data": {
      "image/png": "[encoded data removed]",
      "text/plain": [
       "<Figure size 432x288 with 1 Axes>"
      ]
     },
     "metadata": {
      "needs_background": "light"
     },
     "output_type": "display_data"
    }
   ],
   "source": [
    "\n",
    "from numpy import *\n",
    "from scipy.optimize import *\n",
    "import math\n",
    "import numpy as np\n",
    "import matplotlib.pyplot as plt\n",
    "m0=9.1*10**-31 #kg\n",
    "m=0.063*m0 #conduction band 0.063m0, valance 0.51m0 \n",
    "V= 0.242*1.6*10**-19 #1.6*10**-19J=1eV, 0.242V1, 0.153V2\n",
    "a=10*0.283*10**-9  # 0.283nm/layer usually 30-40 monolayers\n",
    "hbar=1.05*10**-34 \n",
    "c=3*10**8 #m/s\n",
    "Eg=1.43 #eV energy gap of GaAs\n",
    "#Even Case\n",
    "x=np.arange(10**-33,2*10**-19,10**-22)\n",
    "k=(2*m*x)**(1/2)/hbar\n",
    "z=k*a/2\n",
    "z0=a/hbar*(m*V/2)**(1/2)\n",
    "z\n",
    "z0\n",
    "y1=np.tan(z)\n",
    "y2=((z0/z)**2-1)**(1/2)\n",
    "y3=-1/np.tan(z)\n",
    "plt.ylim([0,12])\n",
    "plt.plot(z,y1,color='r') #even\n",
    "plt.plot(z,y2,color='g')\n",
    "plt.plot(z,y3,color='b') #odd\n",
    "def myFunction(p):\n",
    "    z=p[0]\n",
    "    y=p[1]\n",
    "    F=empty((2))\n",
    "    F[0]=y-np.tan(z)\n",
    "    F[1]=y-((z0/z)**2-1)**(1/2)\n",
    "    return F\n",
    "p=fsolve(myFunction,[1,1])\n",
    "\n",
    "def myFunction2(p):\n",
    "    z=p[0]\n",
    "    y=p[1]\n",
    "    F=empty((2))\n",
    "    F[0]=y+1/np.tan(z)\n",
    "    F[1]=y-((z0/z)**2-1)**(1/2)\n",
    "    return F\n",
    "p1=fsolve(myFunction2,[1,1])\n",
    "p\n",
    "x=2*p[0]**2*hbar**2/m/a**2/(1.6*10**-19) #energy level\n",
    "E=x+Eg #recombination energy\n",
    "#0.043eV for V1, 0.0075eV for V2\n",
    "#E=hf=hc/(lambda) \n",
    "freq=E*1.6*10**-19/(6.625*10**-34)\n",
    "lamda=c/freq\n",
    "lamda=lamda*10**9\n",
    "# lamda=6.625*10**-34/(2*m*x*1.6*10**-19)**(1/2)\n",
    "lamda"
   ]
  },
  {
   "cell_type": "markdown",
   "id": "569898e6",
   "metadata": {},
   "source": []
  },
  {
   "cell_type": "code",
   "execution_count": null,
   "id": "c7961c4e",
   "metadata": {},
   "outputs": [],
   "source": []
  }
 ],
 "metadata": {
  "kernelspec": {
   "display_name": "Python 3",
   "language": "python",
   "name": "python3"
  },
  "language_info": {
   "codemirror_mode": {
    "name": "ipython",
    "version": 3
   },
   "file_extension": ".py",
   "mimetype": "text/x-python",
   "name": "python",
   "nbconvert_exporter": "python",
   "pygments_lexer": "ipython3",
   "version": "3.8.8"
  }
 },
 "nbformat": 4,
 "nbformat_minor": 5
}
